{
 "cells": [
  {
   "cell_type": "code",
   "execution_count": 52,
   "metadata": {},
   "outputs": [],
   "source": [
    "import json\n",
    "import pandas as pd\n",
    "import numpy as np\n",
    "import matplotlib.pyplot as plt\n",
    "#from scipy.interpolate import interp2d\n",
    "#import math\n"
   ]
  },
  {
   "cell_type": "markdown",
   "metadata": {},
   "source": [
    "### 1. Load Station data and AQI data into Pandas"
   ]
  },
  {
   "cell_type": "markdown",
   "metadata": {},
   "source": [
    "### 1.1 Load Raw Data"
   ]
  },
  {
   "cell_type": "code",
   "execution_count": 66,
   "metadata": {},
   "outputs": [],
   "source": [
    "df_stations = pd.read_csv(r'D:\\Tommy\\+WeatherData\\china_aqi_map\\stations_20220213.csv')\n",
    "df_aqis = pd.read_csv(r'D:\\Tommy\\+WeatherData\\china_aqi_map\\china_sites_20220520.csv')"
   ]
  },
  {
   "cell_type": "markdown",
   "metadata": {},
   "source": [
    "### 1.2 Rename the column names into English"
   ]
  },
  {
   "cell_type": "code",
   "execution_count": 67,
   "metadata": {},
   "outputs": [
    {
     "name": "stdout",
     "output_type": "stream",
     "text": [
      "     station_id loc_name  city       lon       lat\n",
      "0         1001A     万寿西宫    北京  116.3621   39.8784\n",
      "1         1002A  定陵(对照点)    北京  116.2202   40.2915\n",
      "2         1003A       东四    北京  116.4174   39.9289\n",
      "3         1004A       天坛    北京  116.4072   39.8863\n",
      "4         1005A      农展馆    北京   116.462   39.9365\n",
      "...         ...      ...   ...       ...       ...\n",
      "2021      3734A     理想之城    东营    118.35     37.26\n",
      "2022      3860A   皇山花园小区    临沂   118.392     35.03\n",
      "2023      3861A  寒亭区实验一小    潍坊  119.2041   36.7699\n",
      "2024      3866A      三高中    营口  122.2469  40.66302\n",
      "2025      3867A  平安区公安北苑  海东地区  102.0738   36.5056\n",
      "\n",
      "[2026 rows x 5 columns]\n"
     ]
    }
   ],
   "source": [
    "df_stations.drop(['对照点'], axis=1, inplace = True)\n",
    "df_stations.rename(columns = {'监测点编码':'station_id', '监测点名称':'loc_name', '城市':'city', '经度':'lon', '纬度':'lat'}, inplace = True)\n",
    "print(df_stations)"
   ]
  },
  {
   "cell_type": "code",
   "execution_count": 68,
   "metadata": {},
   "outputs": [
    {
     "name": "stdout",
     "output_type": "stream",
     "text": [
      "         date  hour       type  1001A  1002A  1003A  1004A  1005A  1006A  \\\n",
      "0    20220520     0        AQI   84.0   31.0   95.0   80.0   87.0   83.0   \n",
      "1    20220520     0      PM2.5   47.0   12.0   65.0   45.0   44.0   48.0   \n",
      "2    20220520     0  PM2.5_24h   37.0   26.0   44.0   37.0   38.0   39.0   \n",
      "3    20220520     0       PM10  117.0   26.0  139.0  110.0  124.0  115.0   \n",
      "4    20220520     0   PM10_24h   79.0   55.0   90.0   77.0   91.0   83.0   \n",
      "..        ...   ...        ...    ...    ...    ...    ...    ...    ...   \n",
      "355  20220520    23     O3_24h  241.0  210.0  240.0  242.0  251.0  248.0   \n",
      "356  20220520    23      O3_8h  208.0  175.0  213.0  206.0  222.0  218.0   \n",
      "357  20220520    23  O3_8h_24h  234.0  195.0  233.0  233.0  240.0  236.0   \n",
      "358  20220520    23         CO    0.7    0.5    0.7    0.7    0.6    0.7   \n",
      "359  20220520    23     CO_24h    0.8    0.3    0.8    0.7    0.9    0.7   \n",
      "\n",
      "     1007A  ...  3713A  3715A  3719A  3726A  3728A  3734A  3860A  3861A  \\\n",
      "0     77.0  ...   46.0   65.0   26.0   41.0   41.0   70.0   52.0   63.0   \n",
      "1     39.0  ...   30.0   41.0    3.0    6.0   18.0   51.0   32.0   39.0   \n",
      "2     37.0  ...   22.0   67.0    4.0    7.0   20.0   43.0   43.0   42.0   \n",
      "3    103.0  ...   46.0   80.0    5.0   15.0   41.0   66.0   53.0   75.0   \n",
      "4     86.0  ...   59.0  110.0    6.0   19.0   24.0   80.0   74.0   90.0   \n",
      "..     ...  ...    ...    ...    ...    ...    ...    ...    ...    ...   \n",
      "355  235.0  ...  156.0  151.0  104.0  151.0  135.0  185.0  221.0  196.0   \n",
      "356  200.0  ...  134.0  118.0   92.0  134.0   87.0  135.0  192.0  168.0   \n",
      "357  220.0  ...  151.0  145.0   95.0  142.0  119.0  175.0  213.0  178.0   \n",
      "358    0.6  ...    0.3    0.4    0.9    0.5    0.7    0.5    0.9    0.7   \n",
      "359    0.5  ...    0.4    0.2    0.7    0.5    0.7    0.3    0.8    0.7   \n",
      "\n",
      "     3866A  3867A  \n",
      "0     58.0   55.0  \n",
      "1     22.0   39.0  \n",
      "2     21.0   33.0  \n",
      "3     42.0   44.0  \n",
      "4     39.0   48.0  \n",
      "..     ...    ...  \n",
      "355  227.0  141.0  \n",
      "356  182.0  110.0  \n",
      "357  214.0  128.0  \n",
      "358    0.8    0.3  \n",
      "359    0.8    0.4  \n",
      "\n",
      "[360 rows x 2029 columns]\n"
     ]
    }
   ],
   "source": [
    "print(df_aqis)"
   ]
  },
  {
   "cell_type": "markdown",
   "metadata": {},
   "source": [
    "### 1.3 Select ONE row by hour and type"
   ]
  },
  {
   "cell_type": "code",
   "execution_count": 69,
   "metadata": {},
   "outputs": [
    {
     "name": "stdout",
     "output_type": "stream",
     "text": [
      "       date  hour   type  1001A  1002A  1003A  1004A  1005A  1006A  1007A  \\\n",
      "1  20220520     0  PM2.5   47.0   12.0   65.0   45.0   44.0   48.0   39.0   \n",
      "\n",
      "   ...  3713A  3715A  3719A  3726A  3728A  3734A  3860A  3861A  3866A  3867A  \n",
      "1  ...   30.0   41.0    3.0    6.0   18.0   51.0   32.0   39.0   22.0   39.0  \n",
      "\n",
      "[1 rows x 2029 columns]\n"
     ]
    }
   ],
   "source": [
    "df1 = df_aqis[(df_aqis['hour'] == 0) & (df_aqis['type'] == 'PM2.5')]\n",
    "print(df1)"
   ]
  },
  {
   "cell_type": "markdown",
   "metadata": {},
   "source": [
    "### 1.4 Drop the stations don't have data"
   ]
  },
  {
   "cell_type": "code",
   "execution_count": 70,
   "metadata": {},
   "outputs": [
    {
     "name": "stdout",
     "output_type": "stream",
     "text": [
      "       date  hour   type  1001A  1002A  1003A  1004A  1005A  1006A  1007A  \\\n",
      "1  20220520     0  PM2.5   47.0   12.0   65.0   45.0   44.0   48.0   39.0   \n",
      "\n",
      "   ...  3713A  3715A  3719A  3726A  3728A  3734A  3860A  3861A  3866A  3867A  \n",
      "1  ...   30.0   41.0    3.0    6.0   18.0   51.0   32.0   39.0   22.0   39.0  \n",
      "\n",
      "[1 rows x 1705 columns]\n"
     ]
    }
   ],
   "source": [
    "df2 = df1.dropna(axis=1)\n",
    "print(df2)"
   ]
  },
  {
   "cell_type": "markdown",
   "metadata": {},
   "source": [
    "### 1.5 Swap Columns and Rows (AQI data are stored in columns)"
   ]
  },
  {
   "cell_type": "code",
   "execution_count": 71,
   "metadata": {},
   "outputs": [
    {
     "name": "stdout",
     "output_type": "stream",
     "text": [
      "              1\n",
      "date   20220520\n",
      "hour          0\n",
      "type      PM2.5\n",
      "1001A      47.0\n",
      "1002A      12.0\n",
      "...         ...\n",
      "3734A      51.0\n",
      "3860A      32.0\n",
      "3861A      39.0\n",
      "3866A      22.0\n",
      "3867A      39.0\n",
      "\n",
      "[1705 rows x 1 columns]\n"
     ]
    }
   ],
   "source": [
    "df3 = df2.transpose()\n",
    "print(df3)"
   ]
  },
  {
   "cell_type": "markdown",
   "metadata": {},
   "source": [
    "### 1.6 Reset Index and change the column names"
   ]
  },
  {
   "cell_type": "code",
   "execution_count": 72,
   "metadata": {},
   "outputs": [
    {
     "name": "stdout",
     "output_type": "stream",
     "text": [
      "      index         1\n",
      "0      date  20220520\n",
      "1      hour         0\n",
      "2      type     PM2.5\n",
      "3     1001A      47.0\n",
      "4     1002A      12.0\n",
      "...     ...       ...\n",
      "1700  3734A      51.0\n",
      "1701  3860A      32.0\n",
      "1702  3861A      39.0\n",
      "1703  3866A      22.0\n",
      "1704  3867A      39.0\n",
      "\n",
      "[1705 rows x 2 columns]\n"
     ]
    }
   ],
   "source": [
    "df4 = df3.reset_index()\n",
    "print (df4)"
   ]
  },
  {
   "cell_type": "code",
   "execution_count": 79,
   "metadata": {},
   "outputs": [
    {
     "name": "stdout",
     "output_type": "stream",
     "text": [
      "       s_id     value\n",
      "0      date  20220520\n",
      "1      hour         0\n",
      "2      type     PM2.5\n",
      "3     1001A      47.0\n",
      "4     1002A      12.0\n",
      "...     ...       ...\n",
      "1700  3734A      51.0\n",
      "1701  3860A      32.0\n",
      "1702  3861A      39.0\n",
      "1703  3866A      22.0\n",
      "1704  3867A      39.0\n",
      "\n",
      "[1705 rows x 2 columns]\n"
     ]
    }
   ],
   "source": [
    "df4.rename(columns = {'index':'s_id', 1:'value'}, inplace = True)\n",
    "print (df4)"
   ]
  },
  {
   "cell_type": "markdown",
   "metadata": {},
   "source": [
    "### 1.7 Remove extra first 3 rows (generated by column row swap) "
   ]
  },
  {
   "cell_type": "code",
   "execution_count": 80,
   "metadata": {},
   "outputs": [
    {
     "name": "stdout",
     "output_type": "stream",
     "text": [
      "       s_id value\n",
      "3     1001A  47.0\n",
      "4     1002A  12.0\n",
      "5     1003A  65.0\n",
      "6     1004A  45.0\n",
      "7     1005A  44.0\n",
      "...     ...   ...\n",
      "1700  3734A  51.0\n",
      "1701  3860A  32.0\n",
      "1702  3861A  39.0\n",
      "1703  3866A  22.0\n",
      "1704  3867A  39.0\n",
      "\n",
      "[1702 rows x 2 columns]\n"
     ]
    }
   ],
   "source": [
    "df_values = df4[3:]\n",
    "print(df_values)"
   ]
  },
  {
   "cell_type": "markdown",
   "metadata": {},
   "source": [
    "### 1.8 Join Stations and AQI data"
   ]
  },
  {
   "cell_type": "code",
   "execution_count": 81,
   "metadata": {},
   "outputs": [
    {
     "name": "stdout",
     "output_type": "stream",
     "text": [
      "     station_id loc_name  city       lon       lat\n",
      "0         1001A     万寿西宫    北京  116.3621   39.8784\n",
      "1         1002A  定陵(对照点)    北京  116.2202   40.2915\n",
      "2         1003A       东四    北京  116.4174   39.9289\n",
      "3         1004A       天坛    北京  116.4072   39.8863\n",
      "4         1005A      农展馆    北京   116.462   39.9365\n",
      "...         ...      ...   ...       ...       ...\n",
      "2021      3734A     理想之城    东营    118.35     37.26\n",
      "2022      3860A   皇山花园小区    临沂   118.392     35.03\n",
      "2023      3861A  寒亭区实验一小    潍坊  119.2041   36.7699\n",
      "2024      3866A      三高中    营口  122.2469  40.66302\n",
      "2025      3867A  平安区公安北苑  海东地区  102.0738   36.5056\n",
      "\n",
      "[2026 rows x 5 columns]\n"
     ]
    }
   ],
   "source": [
    "print(df_stations)"
   ]
  },
  {
   "cell_type": "code",
   "execution_count": 82,
   "metadata": {},
   "outputs": [
    {
     "name": "stdout",
     "output_type": "stream",
     "text": [
      "       s_id value\n",
      "3     1001A  47.0\n",
      "4     1002A  12.0\n",
      "5     1003A  65.0\n",
      "6     1004A  45.0\n",
      "7     1005A  44.0\n",
      "...     ...   ...\n",
      "1700  3734A  51.0\n",
      "1701  3860A  32.0\n",
      "1702  3861A  39.0\n",
      "1703  3866A  22.0\n",
      "1704  3867A  39.0\n",
      "\n",
      "[1702 rows x 2 columns]\n"
     ]
    }
   ],
   "source": [
    "print(df_values)"
   ]
  },
  {
   "cell_type": "code",
   "execution_count": 83,
   "metadata": {},
   "outputs": [
    {
     "name": "stdout",
     "output_type": "stream",
     "text": [
      "      loc_name  city       lon       lat value\n",
      "s_id                                          \n",
      "1001A     万寿西宫    北京  116.3621   39.8784  47.0\n",
      "1002A  定陵(对照点)    北京  116.2202   40.2915  12.0\n",
      "1003A       东四    北京  116.4174   39.9289  65.0\n",
      "1004A       天坛    北京  116.4072   39.8863  45.0\n",
      "1005A      农展馆    北京   116.462   39.9365  44.0\n",
      "...        ...   ...       ...       ...   ...\n",
      "3734A     理想之城    东营    118.35     37.26  51.0\n",
      "3860A   皇山花园小区    临沂   118.392     35.03  32.0\n",
      "3861A  寒亭区实验一小    潍坊  119.2041   36.7699  39.0\n",
      "3866A      三高中    营口  122.2469  40.66302  22.0\n",
      "3867A  平安区公安北苑  海东地区  102.0738   36.5056  39.0\n",
      "\n",
      "[1702 rows x 5 columns]\n"
     ]
    }
   ],
   "source": [
    "df_ret = df_stations.set_index('station_id').join(df_values.set_index('s_id'), lsuffix=\"_left\", rsuffix=\"_right\", how='right')\n",
    "print(df_ret)"
   ]
  },
  {
   "cell_type": "markdown",
   "metadata": {},
   "source": [
    "### 1.9 Save result to csv file"
   ]
  },
  {
   "cell_type": "code",
   "execution_count": 85,
   "metadata": {},
   "outputs": [],
   "source": [
    "df_ret.to_csv(r'D:\\Tommy\\+WeatherData\\china_aqi_map\\aqi_all.csv')"
   ]
  },
  {
   "cell_type": "code",
   "execution_count": null,
   "metadata": {},
   "outputs": [],
   "source": []
  }
 ],
 "metadata": {
  "kernelspec": {
   "display_name": "ml",
   "language": "python",
   "name": "ml"
  },
  "language_info": {
   "codemirror_mode": {
    "name": "ipython",
    "version": 3
   },
   "file_extension": ".py",
   "mimetype": "text/x-python",
   "name": "python",
   "nbconvert_exporter": "python",
   "pygments_lexer": "ipython3",
   "version": "3.7.16"
  }
 },
 "nbformat": 4,
 "nbformat_minor": 4
}
